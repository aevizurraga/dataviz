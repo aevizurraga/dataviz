{
 "cells": [
  {
   "cell_type": "code",
   "execution_count": 1,
   "metadata": {},
   "outputs": [],
   "source": [
    "import pandas as pd"
   ]
  },
  {
   "cell_type": "markdown",
   "metadata": {},
   "source": [
    "### 1) Find and Download a dataset\n",
    "   - Baseball Dataset\n",
    "   - Downloaded from Baseball Savant\n",
    "   - 36 Randomly selected baseball players\n",
    "   - 15,662 Cases (At bats)"
   ]
  },
  {
   "cell_type": "code",
   "execution_count": 2,
   "metadata": {},
   "outputs": [],
   "source": [
    "baseball = pd.read_csv(\"Baseball_Data.csv\")"
   ]
  },
  {
   "cell_type": "code",
   "execution_count": 3,
   "metadata": {},
   "outputs": [
    {
     "name": "stdout",
     "output_type": "stream",
     "text": [
      "  pitch_type game_date release_speed release_pos_x release_pos_z  \\\n",
      "0         SL   9/29/18          85.8       -2.9529        5.5885   \n",
      "1         CU   9/29/18          77.5       -2.5341        6.2771   \n",
      "2         FF   9/23/18            92        1.3036        5.7472   \n",
      "3         FT   9/14/18          89.7        0.8316        6.2047   \n",
      "4         SL   9/12/18          87.3       -1.4763        5.6819   \n",
      "\n",
      "     player_name  batter  pitcher_A     events           description  \\\n",
      "0  David Peralta  444482     622259  field_out         hit_into_play   \n",
      "1  David Peralta  444482     656798  field_out         hit_into_play   \n",
      "2  David Peralta  444482     607536     single  hit_into_play_no_out   \n",
      "3  David Peralta  444482     572971     single   hit_into_play_score   \n",
      "4  David Peralta  444482     623184  field_out         hit_into_play   \n",
      "\n",
      "     ...    post_away_score post_home_score post_bat_score post_fld_score  \\\n",
      "0    ...                  5               3              5              3   \n",
      "1    ...                  2               0              2              0   \n",
      "2    ...                  2               0              0              2   \n",
      "3    ...                  0               0              0              0   \n",
      "4    ...                  4               3              4              3   \n",
      "\n",
      "  if_fielding_alignment of_fielding_alignment          ballpark    hit_out  \\\n",
      "0             Strategic              Standard        Petco Park  field_out   \n",
      "1             Strategic              Standard        Petco Park  field_out   \n",
      "2             Strategic              Standard       Chase Field     single   \n",
      "3             Strategic              Standard  Minute Maid Park     single   \n",
      "4             Strategic              Standard       Coors Field  field_out   \n",
      "\n",
      "  hit_out_2  filter_$  \n",
      "0       Out  Selected  \n",
      "1       Out  Selected  \n",
      "2       Hit  Selected  \n",
      "3       Hit  Selected  \n",
      "4       Out  Selected  \n",
      "\n",
      "[5 rows x 93 columns]\n"
     ]
    }
   ],
   "source": [
    "print(baseball.head())"
   ]
  },
  {
   "cell_type": "code",
   "execution_count": 4,
   "metadata": {},
   "outputs": [
    {
     "data": {
      "text/html": [
       "<div>\n",
       "<style scoped>\n",
       "    .dataframe tbody tr th:only-of-type {\n",
       "        vertical-align: middle;\n",
       "    }\n",
       "\n",
       "    .dataframe tbody tr th {\n",
       "        vertical-align: top;\n",
       "    }\n",
       "\n",
       "    .dataframe thead th {\n",
       "        text-align: right;\n",
       "    }\n",
       "</style>\n",
       "<table border=\"1\" class=\"dataframe\">\n",
       "  <thead>\n",
       "    <tr style=\"text-align: right;\">\n",
       "      <th></th>\n",
       "      <th>batter</th>\n",
       "      <th>pitcher_A</th>\n",
       "      <th>hit_location</th>\n",
       "      <th>balls</th>\n",
       "      <th>strikes</th>\n",
       "      <th>game_year</th>\n",
       "      <th>on_3b</th>\n",
       "      <th>on_2b</th>\n",
       "      <th>on_1b</th>\n",
       "      <th>outs_when_up</th>\n",
       "      <th>...</th>\n",
       "      <th>at_bat_number</th>\n",
       "      <th>pitch_number</th>\n",
       "      <th>home_score</th>\n",
       "      <th>away_score</th>\n",
       "      <th>bat_score</th>\n",
       "      <th>fld_score</th>\n",
       "      <th>post_away_score</th>\n",
       "      <th>post_home_score</th>\n",
       "      <th>post_bat_score</th>\n",
       "      <th>post_fld_score</th>\n",
       "    </tr>\n",
       "  </thead>\n",
       "  <tbody>\n",
       "    <tr>\n",
       "      <th>count</th>\n",
       "      <td>15662.000000</td>\n",
       "      <td>15662.000000</td>\n",
       "      <td>14812.000000</td>\n",
       "      <td>15662.000000</td>\n",
       "      <td>15662.000000</td>\n",
       "      <td>15662.0</td>\n",
       "      <td>1225.000000</td>\n",
       "      <td>2572.000000</td>\n",
       "      <td>4036.000000</td>\n",
       "      <td>15662.000000</td>\n",
       "      <td>...</td>\n",
       "      <td>15662.000000</td>\n",
       "      <td>15662.000000</td>\n",
       "      <td>15662.000000</td>\n",
       "      <td>15662.000000</td>\n",
       "      <td>15662.000000</td>\n",
       "      <td>15662.000000</td>\n",
       "      <td>15662.000000</td>\n",
       "      <td>15662.000000</td>\n",
       "      <td>15662.000000</td>\n",
       "      <td>15662.000000</td>\n",
       "    </tr>\n",
       "    <tr>\n",
       "      <th>mean</th>\n",
       "      <td>543972.296769</td>\n",
       "      <td>553561.135934</td>\n",
       "      <td>6.328652</td>\n",
       "      <td>1.126165</td>\n",
       "      <td>1.110969</td>\n",
       "      <td>2018.0</td>\n",
       "      <td>552440.946939</td>\n",
       "      <td>553344.949456</td>\n",
       "      <td>548775.871903</td>\n",
       "      <td>0.938577</td>\n",
       "      <td>...</td>\n",
       "      <td>36.676287</td>\n",
       "      <td>3.450964</td>\n",
       "      <td>1.996361</td>\n",
       "      <td>2.168242</td>\n",
       "      <td>2.162878</td>\n",
       "      <td>2.001724</td>\n",
       "      <td>2.168242</td>\n",
       "      <td>1.996361</td>\n",
       "      <td>2.162878</td>\n",
       "      <td>2.001724</td>\n",
       "    </tr>\n",
       "    <tr>\n",
       "      <th>std</th>\n",
       "      <td>58734.626312</td>\n",
       "      <td>75161.142864</td>\n",
       "      <td>2.156151</td>\n",
       "      <td>1.017022</td>\n",
       "      <td>0.802872</td>\n",
       "      <td>0.0</td>\n",
       "      <td>67658.848077</td>\n",
       "      <td>66886.078390</td>\n",
       "      <td>66756.070128</td>\n",
       "      <td>0.820018</td>\n",
       "      <td>...</td>\n",
       "      <td>23.433632</td>\n",
       "      <td>1.865982</td>\n",
       "      <td>2.491859</td>\n",
       "      <td>2.501410</td>\n",
       "      <td>2.526325</td>\n",
       "      <td>2.466957</td>\n",
       "      <td>2.501410</td>\n",
       "      <td>2.491859</td>\n",
       "      <td>2.526325</td>\n",
       "      <td>2.466957</td>\n",
       "    </tr>\n",
       "    <tr>\n",
       "      <th>min</th>\n",
       "      <td>444482.000000</td>\n",
       "      <td>112526.000000</td>\n",
       "      <td>1.000000</td>\n",
       "      <td>0.000000</td>\n",
       "      <td>0.000000</td>\n",
       "      <td>2018.0</td>\n",
       "      <td>408045.000000</td>\n",
       "      <td>400085.000000</td>\n",
       "      <td>408045.000000</td>\n",
       "      <td>0.000000</td>\n",
       "      <td>...</td>\n",
       "      <td>1.000000</td>\n",
       "      <td>1.000000</td>\n",
       "      <td>0.000000</td>\n",
       "      <td>0.000000</td>\n",
       "      <td>0.000000</td>\n",
       "      <td>0.000000</td>\n",
       "      <td>0.000000</td>\n",
       "      <td>0.000000</td>\n",
       "      <td>0.000000</td>\n",
       "      <td>0.000000</td>\n",
       "    </tr>\n",
       "    <tr>\n",
       "      <th>25%</th>\n",
       "      <td>493329.000000</td>\n",
       "      <td>502043.000000</td>\n",
       "      <td>5.000000</td>\n",
       "      <td>0.000000</td>\n",
       "      <td>0.000000</td>\n",
       "      <td>2018.0</td>\n",
       "      <td>502671.000000</td>\n",
       "      <td>502671.000000</td>\n",
       "      <td>500874.000000</td>\n",
       "      <td>0.000000</td>\n",
       "      <td>...</td>\n",
       "      <td>18.000000</td>\n",
       "      <td>2.000000</td>\n",
       "      <td>0.000000</td>\n",
       "      <td>0.000000</td>\n",
       "      <td>0.000000</td>\n",
       "      <td>0.000000</td>\n",
       "      <td>0.000000</td>\n",
       "      <td>0.000000</td>\n",
       "      <td>0.000000</td>\n",
       "      <td>0.000000</td>\n",
       "    </tr>\n",
       "    <tr>\n",
       "      <th>50%</th>\n",
       "      <td>543760.000000</td>\n",
       "      <td>571951.000000</td>\n",
       "      <td>7.000000</td>\n",
       "      <td>1.000000</td>\n",
       "      <td>1.000000</td>\n",
       "      <td>2018.0</td>\n",
       "      <td>570481.000000</td>\n",
       "      <td>570731.000000</td>\n",
       "      <td>547180.000000</td>\n",
       "      <td>1.000000</td>\n",
       "      <td>...</td>\n",
       "      <td>37.000000</td>\n",
       "      <td>3.000000</td>\n",
       "      <td>1.000000</td>\n",
       "      <td>1.000000</td>\n",
       "      <td>1.000000</td>\n",
       "      <td>1.000000</td>\n",
       "      <td>1.000000</td>\n",
       "      <td>1.000000</td>\n",
       "      <td>1.000000</td>\n",
       "      <td>1.000000</td>\n",
       "    </tr>\n",
       "    <tr>\n",
       "      <th>75%</th>\n",
       "      <td>595879.000000</td>\n",
       "      <td>607211.250000</td>\n",
       "      <td>8.000000</td>\n",
       "      <td>2.000000</td>\n",
       "      <td>2.000000</td>\n",
       "      <td>2018.0</td>\n",
       "      <td>605486.000000</td>\n",
       "      <td>605509.000000</td>\n",
       "      <td>605141.000000</td>\n",
       "      <td>2.000000</td>\n",
       "      <td>...</td>\n",
       "      <td>56.000000</td>\n",
       "      <td>5.000000</td>\n",
       "      <td>3.000000</td>\n",
       "      <td>3.000000</td>\n",
       "      <td>3.000000</td>\n",
       "      <td>3.000000</td>\n",
       "      <td>3.000000</td>\n",
       "      <td>3.000000</td>\n",
       "      <td>3.000000</td>\n",
       "      <td>3.000000</td>\n",
       "    </tr>\n",
       "    <tr>\n",
       "      <th>max</th>\n",
       "      <td>643217.000000</td>\n",
       "      <td>673633.000000</td>\n",
       "      <td>9.000000</td>\n",
       "      <td>3.000000</td>\n",
       "      <td>2.000000</td>\n",
       "      <td>2018.0</td>\n",
       "      <td>669456.000000</td>\n",
       "      <td>669456.000000</td>\n",
       "      <td>670950.000000</td>\n",
       "      <td>2.000000</td>\n",
       "      <td>...</td>\n",
       "      <td>135.000000</td>\n",
       "      <td>17.000000</td>\n",
       "      <td>25.000000</td>\n",
       "      <td>17.000000</td>\n",
       "      <td>24.000000</td>\n",
       "      <td>25.000000</td>\n",
       "      <td>17.000000</td>\n",
       "      <td>25.000000</td>\n",
       "      <td>24.000000</td>\n",
       "      <td>25.000000</td>\n",
       "    </tr>\n",
       "  </tbody>\n",
       "</table>\n",
       "<p>8 rows × 45 columns</p>\n",
       "</div>"
      ],
      "text/plain": [
       "              batter      pitcher_A  hit_location         balls       strikes  \\\n",
       "count   15662.000000   15662.000000  14812.000000  15662.000000  15662.000000   \n",
       "mean   543972.296769  553561.135934      6.328652      1.126165      1.110969   \n",
       "std     58734.626312   75161.142864      2.156151      1.017022      0.802872   \n",
       "min    444482.000000  112526.000000      1.000000      0.000000      0.000000   \n",
       "25%    493329.000000  502043.000000      5.000000      0.000000      0.000000   \n",
       "50%    543760.000000  571951.000000      7.000000      1.000000      1.000000   \n",
       "75%    595879.000000  607211.250000      8.000000      2.000000      2.000000   \n",
       "max    643217.000000  673633.000000      9.000000      3.000000      2.000000   \n",
       "\n",
       "       game_year          on_3b          on_2b          on_1b  outs_when_up  \\\n",
       "count    15662.0    1225.000000    2572.000000    4036.000000  15662.000000   \n",
       "mean      2018.0  552440.946939  553344.949456  548775.871903      0.938577   \n",
       "std          0.0   67658.848077   66886.078390   66756.070128      0.820018   \n",
       "min       2018.0  408045.000000  400085.000000  408045.000000      0.000000   \n",
       "25%       2018.0  502671.000000  502671.000000  500874.000000      0.000000   \n",
       "50%       2018.0  570481.000000  570731.000000  547180.000000      1.000000   \n",
       "75%       2018.0  605486.000000  605509.000000  605141.000000      2.000000   \n",
       "max       2018.0  669456.000000  669456.000000  670950.000000      2.000000   \n",
       "\n",
       "            ...        at_bat_number  pitch_number    home_score  \\\n",
       "count       ...         15662.000000  15662.000000  15662.000000   \n",
       "mean        ...            36.676287      3.450964      1.996361   \n",
       "std         ...            23.433632      1.865982      2.491859   \n",
       "min         ...             1.000000      1.000000      0.000000   \n",
       "25%         ...            18.000000      2.000000      0.000000   \n",
       "50%         ...            37.000000      3.000000      1.000000   \n",
       "75%         ...            56.000000      5.000000      3.000000   \n",
       "max         ...           135.000000     17.000000     25.000000   \n",
       "\n",
       "         away_score     bat_score     fld_score  post_away_score  \\\n",
       "count  15662.000000  15662.000000  15662.000000     15662.000000   \n",
       "mean       2.168242      2.162878      2.001724         2.168242   \n",
       "std        2.501410      2.526325      2.466957         2.501410   \n",
       "min        0.000000      0.000000      0.000000         0.000000   \n",
       "25%        0.000000      0.000000      0.000000         0.000000   \n",
       "50%        1.000000      1.000000      1.000000         1.000000   \n",
       "75%        3.000000      3.000000      3.000000         3.000000   \n",
       "max       17.000000     24.000000     25.000000        17.000000   \n",
       "\n",
       "       post_home_score  post_bat_score  post_fld_score  \n",
       "count     15662.000000    15662.000000    15662.000000  \n",
       "mean          1.996361        2.162878        2.001724  \n",
       "std           2.491859        2.526325        2.466957  \n",
       "min           0.000000        0.000000        0.000000  \n",
       "25%           0.000000        0.000000        0.000000  \n",
       "50%           1.000000        1.000000        1.000000  \n",
       "75%           3.000000        3.000000        3.000000  \n",
       "max          25.000000       24.000000       25.000000  \n",
       "\n",
       "[8 rows x 45 columns]"
      ]
     },
     "execution_count": 4,
     "metadata": {},
     "output_type": "execute_result"
    }
   ],
   "source": [
    "baseball.describe()"
   ]
  },
  {
   "cell_type": "code",
   "execution_count": 5,
   "metadata": {},
   "outputs": [],
   "source": [
    "baseball_1 = baseball[['events', 'if_fielding_alignment', 'of_fielding_alignment', 'stand', 'launch_speed', 'launch_angle']].copy()"
   ]
  },
  {
   "cell_type": "code",
   "execution_count": 6,
   "metadata": {},
   "outputs": [],
   "source": [
    "crosstab_events = pd.crosstab(index=baseball_1[\"events\"],  \n",
    "                              columns=\"count\")"
   ]
  },
  {
   "cell_type": "code",
   "execution_count": 7,
   "metadata": {},
   "outputs": [
    {
     "data": {
      "text/html": [
       "<div>\n",
       "<style scoped>\n",
       "    .dataframe tbody tr th:only-of-type {\n",
       "        vertical-align: middle;\n",
       "    }\n",
       "\n",
       "    .dataframe tbody tr th {\n",
       "        vertical-align: top;\n",
       "    }\n",
       "\n",
       "    .dataframe thead th {\n",
       "        text-align: right;\n",
       "    }\n",
       "</style>\n",
       "<table border=\"1\" class=\"dataframe\">\n",
       "  <thead>\n",
       "    <tr style=\"text-align: right;\">\n",
       "      <th>col_0</th>\n",
       "      <th>count</th>\n",
       "    </tr>\n",
       "    <tr>\n",
       "      <th>events</th>\n",
       "      <th></th>\n",
       "    </tr>\n",
       "  </thead>\n",
       "  <tbody>\n",
       "    <tr>\n",
       "      <th>double</th>\n",
       "      <td>1250</td>\n",
       "    </tr>\n",
       "    <tr>\n",
       "      <th>double_play</th>\n",
       "      <td>68</td>\n",
       "    </tr>\n",
       "    <tr>\n",
       "      <th>field_error</th>\n",
       "      <td>223</td>\n",
       "    </tr>\n",
       "    <tr>\n",
       "      <th>field_out</th>\n",
       "      <td>9488</td>\n",
       "    </tr>\n",
       "    <tr>\n",
       "      <th>fielders_choice</th>\n",
       "      <td>9</td>\n",
       "    </tr>\n",
       "    <tr>\n",
       "      <th>fielders_choice_out</th>\n",
       "      <td>46</td>\n",
       "    </tr>\n",
       "    <tr>\n",
       "      <th>home_run</th>\n",
       "      <td>777</td>\n",
       "    </tr>\n",
       "    <tr>\n",
       "      <th>single</th>\n",
       "      <td>3665</td>\n",
       "    </tr>\n",
       "    <tr>\n",
       "      <th>triple</th>\n",
       "      <td>136</td>\n",
       "    </tr>\n",
       "  </tbody>\n",
       "</table>\n",
       "</div>"
      ],
      "text/plain": [
       "col_0                count\n",
       "events                    \n",
       "double                1250\n",
       "double_play             68\n",
       "field_error            223\n",
       "field_out             9488\n",
       "fielders_choice          9\n",
       "fielders_choice_out     46\n",
       "home_run               777\n",
       "single                3665\n",
       "triple                 136"
      ]
     },
     "metadata": {},
     "output_type": "display_data"
    }
   ],
   "source": [
    "display(crosstab_events)"
   ]
  },
  {
   "cell_type": "code",
   "execution_count": 8,
   "metadata": {},
   "outputs": [],
   "source": [
    "baseball_1[\"Home Run or Out\"] = baseball_1['events']"
   ]
  },
  {
   "cell_type": "code",
   "execution_count": 9,
   "metadata": {},
   "outputs": [
    {
     "name": "stdout",
     "output_type": "stream",
     "text": [
      "      events if_fielding_alignment of_fielding_alignment stand  launch_speed  \\\n",
      "0  field_out             Strategic              Standard     L          80.0   \n",
      "1  field_out             Strategic              Standard     L          80.5   \n",
      "2     single             Strategic              Standard     L         103.9   \n",
      "3     single             Strategic              Standard     L          90.7   \n",
      "4  field_out             Strategic              Standard     L          47.2   \n",
      "\n",
      "   launch_angle Home Run or Out  \n",
      "0           -58       field_out  \n",
      "1           -46       field_out  \n",
      "2            16          single  \n",
      "3            -6          single  \n",
      "4           -45       field_out  \n"
     ]
    }
   ],
   "source": [
    "print(baseball_1.head())"
   ]
  },
  {
   "cell_type": "code",
   "execution_count": 10,
   "metadata": {},
   "outputs": [],
   "source": [
    "events_grouped = baseball_1.groupby(baseball_1['events'])"
   ]
  },
  {
   "cell_type": "code",
   "execution_count": 18,
   "metadata": {},
   "outputs": [],
   "source": [
    "baseball_copy = baseball_1.copy()"
   ]
  },
  {
   "cell_type": "code",
   "execution_count": 19,
   "metadata": {
    "scrolled": true
   },
   "outputs": [
    {
     "data": {
      "text/html": [
       "<div>\n",
       "<style scoped>\n",
       "    .dataframe tbody tr th:only-of-type {\n",
       "        vertical-align: middle;\n",
       "    }\n",
       "\n",
       "    .dataframe tbody tr th {\n",
       "        vertical-align: top;\n",
       "    }\n",
       "\n",
       "    .dataframe thead th {\n",
       "        text-align: right;\n",
       "    }\n",
       "</style>\n",
       "<table border=\"1\" class=\"dataframe\">\n",
       "  <thead>\n",
       "    <tr style=\"text-align: right;\">\n",
       "      <th></th>\n",
       "      <th>events</th>\n",
       "      <th>if_fielding_alignment</th>\n",
       "      <th>of_fielding_alignment</th>\n",
       "      <th>stand</th>\n",
       "      <th>launch_speed</th>\n",
       "      <th>launch_angle</th>\n",
       "      <th>Home Run or Out</th>\n",
       "    </tr>\n",
       "  </thead>\n",
       "  <tbody>\n",
       "    <tr>\n",
       "      <th>0</th>\n",
       "      <td>field_out</td>\n",
       "      <td>Strategic</td>\n",
       "      <td>Standard</td>\n",
       "      <td>L</td>\n",
       "      <td>80.0</td>\n",
       "      <td>-58</td>\n",
       "      <td>field_out</td>\n",
       "    </tr>\n",
       "    <tr>\n",
       "      <th>1</th>\n",
       "      <td>field_out</td>\n",
       "      <td>Strategic</td>\n",
       "      <td>Standard</td>\n",
       "      <td>L</td>\n",
       "      <td>80.5</td>\n",
       "      <td>-46</td>\n",
       "      <td>field_out</td>\n",
       "    </tr>\n",
       "    <tr>\n",
       "      <th>2</th>\n",
       "      <td>single</td>\n",
       "      <td>Strategic</td>\n",
       "      <td>Standard</td>\n",
       "      <td>L</td>\n",
       "      <td>103.9</td>\n",
       "      <td>16</td>\n",
       "      <td>single</td>\n",
       "    </tr>\n",
       "    <tr>\n",
       "      <th>3</th>\n",
       "      <td>single</td>\n",
       "      <td>Strategic</td>\n",
       "      <td>Standard</td>\n",
       "      <td>L</td>\n",
       "      <td>90.7</td>\n",
       "      <td>-6</td>\n",
       "      <td>single</td>\n",
       "    </tr>\n",
       "    <tr>\n",
       "      <th>4</th>\n",
       "      <td>field_out</td>\n",
       "      <td>Strategic</td>\n",
       "      <td>Standard</td>\n",
       "      <td>L</td>\n",
       "      <td>47.2</td>\n",
       "      <td>-45</td>\n",
       "      <td>field_out</td>\n",
       "    </tr>\n",
       "  </tbody>\n",
       "</table>\n",
       "</div>"
      ],
      "text/plain": [
       "      events if_fielding_alignment of_fielding_alignment stand  launch_speed  \\\n",
       "0  field_out             Strategic              Standard     L          80.0   \n",
       "1  field_out             Strategic              Standard     L          80.5   \n",
       "2     single             Strategic              Standard     L         103.9   \n",
       "3     single             Strategic              Standard     L          90.7   \n",
       "4  field_out             Strategic              Standard     L          47.2   \n",
       "\n",
       "   launch_angle Home Run or Out  \n",
       "0           -58       field_out  \n",
       "1           -46       field_out  \n",
       "2            16          single  \n",
       "3            -6          single  \n",
       "4           -45       field_out  "
      ]
     },
     "execution_count": 19,
     "metadata": {},
     "output_type": "execute_result"
    }
   ],
   "source": [
    "baseball_copy.head()"
   ]
  },
  {
   "cell_type": "markdown",
   "metadata": {},
   "source": [
    "### Data Cleaning"
   ]
  },
  {
   "cell_type": "code",
   "execution_count": 20,
   "metadata": {},
   "outputs": [],
   "source": [
    "baseball_copy['Home Run or Out'].replace('field_out', 'Out', inplace = True)"
   ]
  },
  {
   "cell_type": "code",
   "execution_count": 21,
   "metadata": {},
   "outputs": [],
   "source": [
    "baseball_copy['Home Run or Out'].replace('field_error', 'Out', inplace = True)"
   ]
  },
  {
   "cell_type": "code",
   "execution_count": 22,
   "metadata": {},
   "outputs": [],
   "source": [
    "baseball_copy['Home Run or Out'].replace('fielders_choice_out', 'Out', inplace = True)"
   ]
  },
  {
   "cell_type": "code",
   "execution_count": 23,
   "metadata": {},
   "outputs": [],
   "source": [
    "baseball_copy['Home Run or Out'].replace('fielders_choice', 'Out', inplace = True)"
   ]
  },
  {
   "cell_type": "code",
   "execution_count": 24,
   "metadata": {},
   "outputs": [],
   "source": [
    "baseball_copy['Home Run or Out'].replace('single', 'Hit - Not Home Run', inplace = True)"
   ]
  },
  {
   "cell_type": "code",
   "execution_count": 25,
   "metadata": {},
   "outputs": [],
   "source": [
    "baseball_copy['Home Run or Out'].replace('double', 'Hit - Not Home Run', inplace = True)"
   ]
  },
  {
   "cell_type": "code",
   "execution_count": 26,
   "metadata": {},
   "outputs": [],
   "source": [
    "baseball_copy['Home Run or Out'].replace('triple', 'Hit - Not Home Run', inplace = True)"
   ]
  },
  {
   "cell_type": "code",
   "execution_count": 27,
   "metadata": {},
   "outputs": [],
   "source": [
    "baseball_copy['Home Run or Out'].replace('double_play', 'Out', inplace = True)"
   ]
  },
  {
   "cell_type": "code",
   "execution_count": 28,
   "metadata": {},
   "outputs": [],
   "source": [
    "baseball_copy['Home Run or Out'].replace('home_run', 'Home Run', inplace = True)"
   ]
  },
  {
   "cell_type": "markdown",
   "metadata": {},
   "source": [
    "### Split the data into training and test set"
   ]
  },
  {
   "cell_type": "code",
   "execution_count": 46,
   "metadata": {},
   "outputs": [],
   "source": [
    "from sklearn.utils import shuffle\n",
    "import numpy as np\n",
    "baseball_shuffled = shuffle(baseball_copy)"
   ]
  },
  {
   "cell_type": "code",
   "execution_count": 47,
   "metadata": {},
   "outputs": [
    {
     "data": {
      "text/html": [
       "<div>\n",
       "<style scoped>\n",
       "    .dataframe tbody tr th:only-of-type {\n",
       "        vertical-align: middle;\n",
       "    }\n",
       "\n",
       "    .dataframe tbody tr th {\n",
       "        vertical-align: top;\n",
       "    }\n",
       "\n",
       "    .dataframe thead th {\n",
       "        text-align: right;\n",
       "    }\n",
       "</style>\n",
       "<table border=\"1\" class=\"dataframe\">\n",
       "  <thead>\n",
       "    <tr style=\"text-align: right;\">\n",
       "      <th></th>\n",
       "      <th>events</th>\n",
       "      <th>if_fielding_alignment</th>\n",
       "      <th>of_fielding_alignment</th>\n",
       "      <th>stand</th>\n",
       "      <th>launch_speed</th>\n",
       "      <th>launch_angle</th>\n",
       "      <th>Home Run or Out</th>\n",
       "    </tr>\n",
       "  </thead>\n",
       "  <tbody>\n",
       "    <tr>\n",
       "      <th>9419</th>\n",
       "      <td>field_out</td>\n",
       "      <td>Standard</td>\n",
       "      <td>Standard</td>\n",
       "      <td>R</td>\n",
       "      <td>72.1</td>\n",
       "      <td>-14</td>\n",
       "      <td>Out</td>\n",
       "    </tr>\n",
       "    <tr>\n",
       "      <th>11586</th>\n",
       "      <td>triple</td>\n",
       "      <td>Standard</td>\n",
       "      <td>Standard</td>\n",
       "      <td>R</td>\n",
       "      <td>88.6</td>\n",
       "      <td>-10</td>\n",
       "      <td>Hit - Not Home Run</td>\n",
       "    </tr>\n",
       "    <tr>\n",
       "      <th>5116</th>\n",
       "      <td>field_out</td>\n",
       "      <td>Standard</td>\n",
       "      <td>Standard</td>\n",
       "      <td>L</td>\n",
       "      <td>102.6</td>\n",
       "      <td>-6</td>\n",
       "      <td>Out</td>\n",
       "    </tr>\n",
       "    <tr>\n",
       "      <th>4240</th>\n",
       "      <td>single</td>\n",
       "      <td>Standard</td>\n",
       "      <td>Standard</td>\n",
       "      <td>R</td>\n",
       "      <td>72.8</td>\n",
       "      <td>-55</td>\n",
       "      <td>Hit - Not Home Run</td>\n",
       "    </tr>\n",
       "    <tr>\n",
       "      <th>12265</th>\n",
       "      <td>field_out</td>\n",
       "      <td>Infield shift</td>\n",
       "      <td>Standard</td>\n",
       "      <td>L</td>\n",
       "      <td>82.9</td>\n",
       "      <td>49</td>\n",
       "      <td>Out</td>\n",
       "    </tr>\n",
       "  </tbody>\n",
       "</table>\n",
       "</div>"
      ],
      "text/plain": [
       "          events if_fielding_alignment of_fielding_alignment stand  \\\n",
       "9419   field_out              Standard              Standard     R   \n",
       "11586     triple              Standard              Standard     R   \n",
       "5116   field_out              Standard              Standard     L   \n",
       "4240      single              Standard              Standard     R   \n",
       "12265  field_out         Infield shift              Standard     L   \n",
       "\n",
       "       launch_speed  launch_angle     Home Run or Out  \n",
       "9419           72.1           -14                 Out  \n",
       "11586          88.6           -10  Hit - Not Home Run  \n",
       "5116          102.6            -6                 Out  \n",
       "4240           72.8           -55  Hit - Not Home Run  \n",
       "12265          82.9            49                 Out  "
      ]
     },
     "execution_count": 47,
     "metadata": {},
     "output_type": "execute_result"
    }
   ],
   "source": [
    "baseball_shuffled.head()"
   ]
  },
  {
   "cell_type": "code",
   "execution_count": 48,
   "metadata": {},
   "outputs": [],
   "source": [
    "import pandas as pd\n",
    "from sklearn.model_selection import train_test_split\n",
    "baseball_final = baseball_shuffled[['if_fielding_alignment', 'of_fielding_alignment', 'stand', 'launch_speed', 'launch_angle', 'Home Run or Out']].copy()"
   ]
  },
  {
   "cell_type": "code",
   "execution_count": 49,
   "metadata": {},
   "outputs": [],
   "source": [
    "dataframe = pd.DataFrame(baseball_final)\n",
    "y = baseball_final['Home Run or Out']\n",
    "X_train, X_test, y_train, y_test = train_test_split(dataframe, y, test_size=0.3)"
   ]
  },
  {
   "cell_type": "code",
   "execution_count": 50,
   "metadata": {},
   "outputs": [
    {
     "name": "stdout",
     "output_type": "stream",
     "text": [
      "(10963, 6) (10963,)\n",
      "(4699, 6) (4699,)\n"
     ]
    }
   ],
   "source": [
    "print(X_train.shape, y_train.shape)\n",
    "print(X_test.shape, y_test.shape)"
   ]
  },
  {
   "cell_type": "markdown",
   "metadata": {},
   "source": [
    "### Explore your training data set"
   ]
  },
  {
   "cell_type": "code",
   "execution_count": 80,
   "metadata": {},
   "outputs": [
    {
     "name": "stdout",
     "output_type": "stream",
     "text": [
      "<class 'pandas.core.frame.DataFrame'>\n",
      "Int64Index: 10963 entries, 12343 to 6942\n",
      "Data columns (total 6 columns):\n",
      "if_fielding_alignment    10963 non-null object\n",
      "of_fielding_alignment    10963 non-null object\n",
      "stand                    10963 non-null object\n",
      "launch_speed             10963 non-null float64\n",
      "launch_angle             10963 non-null int64\n",
      "Home Run or Out          10963 non-null object\n",
      "dtypes: float64(1), int64(1), object(4)\n",
      "memory usage: 599.5+ KB\n"
     ]
    }
   ],
   "source": [
    "X_train.info()"
   ]
  },
  {
   "cell_type": "code",
   "execution_count": 78,
   "metadata": {},
   "outputs": [
    {
     "data": {
      "text/html": [
       "<div>\n",
       "<style scoped>\n",
       "    .dataframe tbody tr th:only-of-type {\n",
       "        vertical-align: middle;\n",
       "    }\n",
       "\n",
       "    .dataframe tbody tr th {\n",
       "        vertical-align: top;\n",
       "    }\n",
       "\n",
       "    .dataframe thead th {\n",
       "        text-align: right;\n",
       "    }\n",
       "</style>\n",
       "<table border=\"1\" class=\"dataframe\">\n",
       "  <thead>\n",
       "    <tr style=\"text-align: right;\">\n",
       "      <th></th>\n",
       "      <th>launch_speed</th>\n",
       "      <th>launch_angle</th>\n",
       "    </tr>\n",
       "  </thead>\n",
       "  <tbody>\n",
       "    <tr>\n",
       "      <th>count</th>\n",
       "      <td>10963.000000</td>\n",
       "      <td>10963.000000</td>\n",
       "    </tr>\n",
       "    <tr>\n",
       "      <th>mean</th>\n",
       "      <td>88.902381</td>\n",
       "      <td>13.059382</td>\n",
       "    </tr>\n",
       "    <tr>\n",
       "      <th>std</th>\n",
       "      <td>13.242923</td>\n",
       "      <td>26.318167</td>\n",
       "    </tr>\n",
       "    <tr>\n",
       "      <th>min</th>\n",
       "      <td>19.100000</td>\n",
       "      <td>-86.000000</td>\n",
       "    </tr>\n",
       "    <tr>\n",
       "      <th>25%</th>\n",
       "      <td>80.800000</td>\n",
       "      <td>-4.000000</td>\n",
       "    </tr>\n",
       "    <tr>\n",
       "      <th>50%</th>\n",
       "      <td>90.800000</td>\n",
       "      <td>14.000000</td>\n",
       "    </tr>\n",
       "    <tr>\n",
       "      <th>75%</th>\n",
       "      <td>99.100000</td>\n",
       "      <td>29.000000</td>\n",
       "    </tr>\n",
       "    <tr>\n",
       "      <th>max</th>\n",
       "      <td>114.800000</td>\n",
       "      <td>88.000000</td>\n",
       "    </tr>\n",
       "  </tbody>\n",
       "</table>\n",
       "</div>"
      ],
      "text/plain": [
       "       launch_speed  launch_angle\n",
       "count  10963.000000  10963.000000\n",
       "mean      88.902381     13.059382\n",
       "std       13.242923     26.318167\n",
       "min       19.100000    -86.000000\n",
       "25%       80.800000     -4.000000\n",
       "50%       90.800000     14.000000\n",
       "75%       99.100000     29.000000\n",
       "max      114.800000     88.000000"
      ]
     },
     "execution_count": 78,
     "metadata": {},
     "output_type": "execute_result"
    }
   ],
   "source": [
    "X_train.describe()"
   ]
  },
  {
   "cell_type": "code",
   "execution_count": 79,
   "metadata": {},
   "outputs": [
    {
     "data": {
      "text/html": [
       "<div>\n",
       "<style scoped>\n",
       "    .dataframe tbody tr th:only-of-type {\n",
       "        vertical-align: middle;\n",
       "    }\n",
       "\n",
       "    .dataframe tbody tr th {\n",
       "        vertical-align: top;\n",
       "    }\n",
       "\n",
       "    .dataframe thead th {\n",
       "        text-align: right;\n",
       "    }\n",
       "</style>\n",
       "<table border=\"1\" class=\"dataframe\">\n",
       "  <thead>\n",
       "    <tr style=\"text-align: right;\">\n",
       "      <th></th>\n",
       "      <th>if_fielding_alignment</th>\n",
       "      <th>of_fielding_alignment</th>\n",
       "      <th>stand</th>\n",
       "      <th>launch_speed</th>\n",
       "      <th>launch_angle</th>\n",
       "      <th>Home Run or Out</th>\n",
       "    </tr>\n",
       "  </thead>\n",
       "  <tbody>\n",
       "    <tr>\n",
       "      <th>12343</th>\n",
       "      <td>Infield shift</td>\n",
       "      <td>Standard</td>\n",
       "      <td>R</td>\n",
       "      <td>92.9</td>\n",
       "      <td>39</td>\n",
       "      <td>Out</td>\n",
       "    </tr>\n",
       "    <tr>\n",
       "      <th>1442</th>\n",
       "      <td>Standard</td>\n",
       "      <td>Standard</td>\n",
       "      <td>L</td>\n",
       "      <td>82.9</td>\n",
       "      <td>-21</td>\n",
       "      <td>Out</td>\n",
       "    </tr>\n",
       "    <tr>\n",
       "      <th>10071</th>\n",
       "      <td>Standard</td>\n",
       "      <td>Standard</td>\n",
       "      <td>R</td>\n",
       "      <td>103.7</td>\n",
       "      <td>16</td>\n",
       "      <td>Out</td>\n",
       "    </tr>\n",
       "    <tr>\n",
       "      <th>609</th>\n",
       "      <td>Strategic</td>\n",
       "      <td>Standard</td>\n",
       "      <td>R</td>\n",
       "      <td>81.8</td>\n",
       "      <td>-6</td>\n",
       "      <td>Out</td>\n",
       "    </tr>\n",
       "    <tr>\n",
       "      <th>1198</th>\n",
       "      <td>Standard</td>\n",
       "      <td>Standard</td>\n",
       "      <td>L</td>\n",
       "      <td>93.8</td>\n",
       "      <td>-25</td>\n",
       "      <td>Out</td>\n",
       "    </tr>\n",
       "  </tbody>\n",
       "</table>\n",
       "</div>"
      ],
      "text/plain": [
       "      if_fielding_alignment of_fielding_alignment stand  launch_speed  \\\n",
       "12343         Infield shift              Standard     R          92.9   \n",
       "1442               Standard              Standard     L          82.9   \n",
       "10071              Standard              Standard     R         103.7   \n",
       "609               Strategic              Standard     R          81.8   \n",
       "1198               Standard              Standard     L          93.8   \n",
       "\n",
       "       launch_angle Home Run or Out  \n",
       "12343            39             Out  \n",
       "1442            -21             Out  \n",
       "10071            16             Out  \n",
       "609              -6             Out  \n",
       "1198            -25             Out  "
      ]
     },
     "execution_count": 79,
     "metadata": {},
     "output_type": "execute_result"
    }
   ],
   "source": [
    "X_train.head()"
   ]
  },
  {
   "cell_type": "markdown",
   "metadata": {},
   "source": [
    "### Visualize your data"
   ]
  },
  {
   "cell_type": "code",
   "execution_count": 52,
   "metadata": {},
   "outputs": [
    {
     "name": "stdout",
     "output_type": "stream",
     "text": [
      "Out                   6878\n",
      "Hit - Not Home Run    3547\n",
      "Home Run               538\n",
      "Name: Home Run or Out, dtype: int64\n"
     ]
    }
   ],
   "source": [
    "print(X_train['Home Run or Out'].value_counts())"
   ]
  },
  {
   "cell_type": "code",
   "execution_count": 53,
   "metadata": {},
   "outputs": [
    {
     "name": "stdout",
     "output_type": "stream",
     "text": [
      "AxesSubplot(0.125,0.125;0.775x0.755)\n"
     ]
    },
    {
     "data": {
      "image/png": "[encoded data removed]",
      "text/plain": [
       "<Figure size 432x288 with 1 Axes>"
      ]
     },
     "metadata": {
      "needs_background": "light"
     },
     "output_type": "display_data"
    }
   ],
   "source": [
    "print(X_train['Home Run or Out'].value_counts().plot('bar'))"
   ]
  },
  {
   "cell_type": "code",
   "execution_count": 54,
   "metadata": {},
   "outputs": [
    {
     "data": {
      "image/png": "[encoded data removed]",
      "text/plain": [
       "<Figure size 1440x1080 with 2 Axes>"
      ]
     },
     "metadata": {
      "needs_background": "light"
     },
     "output_type": "display_data"
    }
   ],
   "source": [
    "%matplotlib inline\n",
    "import matplotlib.pyplot as plt\n",
    "X_train.hist(bins=50, figsize=(20,15), color = 'red', alpha = .4)\n",
    "plt.show()"
   ]
  },
  {
   "cell_type": "code",
   "execution_count": 55,
   "metadata": {},
   "outputs": [
    {
     "data": {
      "image/png": "[encoded data removed]",
      "text/plain": [
       "<Figure size 720x504 with 1 Axes>"
      ]
     },
     "metadata": {
      "needs_background": "light"
     },
     "output_type": "display_data"
    }
   ],
   "source": [
    "X_train.plot(kind=\"scatter\", x=\"launch_angle\", y=\"launch_speed\", alpha=0.1,\n",
    "    figsize=(10,7), marker = \"x\", color = 'red')\n",
    "plt.show()\n",
    "    "
   ]
  },
  {
   "cell_type": "markdown",
   "metadata": {},
   "source": [
    "### Transformations"
   ]
  },
  {
   "cell_type": "code",
   "execution_count": 76,
   "metadata": {},
   "outputs": [
    {
     "data": {
      "image/png": "[encoded data removed]",
      "text/plain": [
       "<Figure size 1440x1080 with 1 Axes>"
      ]
     },
     "metadata": {
      "needs_background": "light"
     },
     "output_type": "display_data"
    }
   ],
   "source": [
    "%matplotlib inline\n",
    "import matplotlib.pyplot as plt\n",
    "launch_angle_tf_2 = X_train['launch_angle'] ** 2\n",
    "launch_angle_tf.hist(bins=50, figsize=(20,15), color = 'red', alpha = .4)\n",
    "plt.show()"
   ]
  },
  {
   "cell_type": "code",
   "execution_count": 77,
   "metadata": {},
   "outputs": [
    {
     "data": {
      "image/png": "[encoded data removed]",
      "text/plain": [
       "<Figure size 1440x1080 with 1 Axes>"
      ]
     },
     "metadata": {
      "needs_background": "light"
     },
     "output_type": "display_data"
    }
   ],
   "source": [
    "%matplotlib inline\n",
    "import matplotlib.pyplot as plt\n",
    "launch_angle_tf_3 = X_train['launch_angle'] ** 3\n",
    "launch_angle_tf.hist(bins=50, figsize=(20,15), color = 'red', alpha = .4)\n",
    "plt.show()"
   ]
  },
  {
   "cell_type": "code",
   "execution_count": 75,
   "metadata": {},
   "outputs": [
    {
     "data": {
      "image/png": "[encoded data removed]",
      "text/plain": [
       "<Figure size 1440x1080 with 1 Axes>"
      ]
     },
     "metadata": {
      "needs_background": "light"
     },
     "output_type": "display_data"
    }
   ],
   "source": [
    "%matplotlib inline\n",
    "import matplotlib.pyplot as plt\n",
    "launch_speed_tf_2 = X_train['launch_speed'] ** 2\n",
    "launch_speed_tf_2.hist(bins=50, figsize=(20,15), color = 'red', alpha = .4)\n",
    "plt.show()"
   ]
  },
  {
   "cell_type": "code",
   "execution_count": 74,
   "metadata": {},
   "outputs": [
    {
     "data": {
      "image/png": "[encoded data removed]",
      "text/plain": [
       "<Figure size 1440x1080 with 1 Axes>"
      ]
     },
     "metadata": {
      "needs_background": "light"
     },
     "output_type": "display_data"
    }
   ],
   "source": [
    "%matplotlib inline\n",
    "import matplotlib.pyplot as plt\n",
    "launch_speed_tf_3 = X_train['launch_speed'] ** 3\n",
    "launch_speed_tf_3.hist(bins=50, figsize=(20,15), color = 'red', alpha = .4)\n",
    "plt.show()"
   ]
  },
  {
   "cell_type": "code",
   "execution_count": 73,
   "metadata": {},
   "outputs": [
    {
     "data": {
      "image/png": "[encoded data removed]",
      "text/plain": [
       "<Figure size 1440x1080 with 1 Axes>"
      ]
     },
     "metadata": {
      "needs_background": "light"
     },
     "output_type": "display_data"
    }
   ],
   "source": [
    "%matplotlib inline\n",
    "import matplotlib.pyplot as plt\n",
    "launch_speed_tf_log = np.log(X_train['launch_speed'])\n",
    "launch_speed_tf_log.hist(bins=50, figsize=(20,15), color = 'red', alpha = .4)\n",
    "plt.show()"
   ]
  }
 ],
 "metadata": {
  "kernelspec": {
   "display_name": "Python 3",
   "language": "python",
   "name": "python3"
  },
  "language_info": {
   "codemirror_mode": {
    "name": "ipython",
    "version": 3
   },
   "file_extension": ".py",
   "mimetype": "text/x-python",
   "name": "python",
   "nbconvert_exporter": "python",
   "pygments_lexer": "ipython3",
   "version": "3.7.1"
  }
 },
 "nbformat": 4,
 "nbformat_minor": 2
}
